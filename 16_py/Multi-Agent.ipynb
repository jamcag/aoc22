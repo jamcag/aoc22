{
 "cells": [
  {
   "cell_type": "code",
   "execution_count": 105,
   "id": "6240a05e",
   "metadata": {},
   "outputs": [
    {
     "name": "stdout",
     "output_type": "stream",
     "text": [
      "valve='AA', rate=0, tunnels=['BB', 'CC']\n",
      "valve='BB', rate=13, tunnels=['AA']\n",
      "valve='CC', rate=2, tunnels=['AA', 'DD']\n",
      "valve='DD', rate=20, tunnels=['CC']\n",
      "\n"
     ]
    }
   ],
   "source": [
    "from collections import deque\n",
    "from dataclasses import dataclass\n",
    "import re\n",
    "from typing import List, Mapping\n",
    "\n",
    "input_rates = {}\n",
    "input_neighbours = {}\n",
    "with open(\"input\") as f:\n",
    "    for line in f.readlines():\n",
    "        match = re.match(r\"Valve ([A-Z][A-Z]) has flow rate=(\\d+); tunnels? leads? to valves? (.*)\", line)\n",
    "        valve = match[1]\n",
    "        rate = int(match[2])\n",
    "        tunnels = [t.strip() for t in match[3].split(\",\")]\n",
    "        input_rates[valve] = rate\n",
    "        input_neighbours[valve] = tunnels\n",
    "        print(f\"{valve=}, {rate=}, {tunnels=}\")\n",
    "print()\n",
    "# Find shortest paths. cost_to_go[x][y] is the cost to open y from x.\n",
    "def find_costs(src: str, rates: Mapping[str, int], neighbours: Mapping[str, List[str]]):\n",
    "    \"\"\"Finds costs to open positive-rate valves from `src`.\n",
    "    \"\"\"\n",
    "    costs = {}\n",
    "    frontier = deque()\n",
    "    frontier.append([src])\n",
    "    visited = set()\n",
    "    while len(frontier):\n",
    "        cur_path = frontier.popleft()\n",
    "        cur = cur_path[-1]\n",
    "        if cur not in costs and rates[cur] > 0:\n",
    "            costs[cur] = len(cur_path)\n",
    "        for n in neighbours[cur]:\n",
    "            if n not in visited:\n",
    "                visited.add(n)\n",
    "                frontier.append(cur_path + [n])\n",
    "    return costs\n",
    "def find_all_paths_costs(rates, neighbours):\n",
    "    cost_to_go = {}\n",
    "    for valve, rate in rates.items():\n",
    "        if rate > 0 or valve == \"AA\":\n",
    "            cost_to_go[valve] = find_costs(valve, rates, neighbours)\n",
    "    return cost_to_go\n",
    "input_cost_to_go = find_all_paths_costs(input_rates, input_neighbours)\n",
    "\n",
    "rates = input_rates\n",
    "neighbours = input_neighbours\n",
    "cost_to_go = input_cost_to_go"
   ]
  },
  {
   "cell_type": "markdown",
   "id": "36663deb",
   "metadata": {},
   "source": [
    "Do a depth-first search for the highest total flow by the time limit of 26 minutes running out."
   ]
  },
  {
   "cell_type": "code",
   "execution_count": 142,
   "id": "f2742ed1",
   "metadata": {},
   "outputs": [],
   "source": [
    "@dataclass\n",
    "class Agent:\n",
    "    dest_valve: str\n",
    "    time_to_dest: int\n",
    "\n",
    "@dataclass\n",
    "class State:\n",
    "    elf: Agent\n",
    "    elph: Agent\n",
    "    opened: List[str]\n",
    "    rate: int\n",
    "    total_flow: int\n",
    "    time_remaining: int\n",
    "    \n",
    "    def __eq__(self, other):\n",
    "        return (\n",
    "            self.elf == other.elf and\n",
    "            self.elph == other.elph and\n",
    "            set(self.opened) == set(other.opened) and\n",
    "            self.rate == other.rate and\n",
    "            self.total_flow == other.total_flow and\n",
    "            self.time_remaining == other.time_remaining\n",
    "        )"
   ]
  },
  {
   "cell_type": "code",
   "execution_count": 170,
   "id": "435c095a",
   "metadata": {},
   "outputs": [
    {
     "data": {
      "text/plain": [
       "[State(elf=Agent(dest_valve='BB', time_to_dest=0), elph=Agent(dest_valve='DD', time_to_dest=1), opened=['BB'], rate=13, total_flow=0, time_remaining=24),\n",
       " State(elf=Agent(dest_valve='DD', time_to_dest=2), elph=Agent(dest_valve='BB', time_to_dest=0), opened=['BB'], rate=13, total_flow=0, time_remaining=24)]"
      ]
     },
     "execution_count": 170,
     "metadata": {},
     "output_type": "execute_result"
    }
   ],
   "source": [
    "def expand_state(state: State):\n",
    "    \"\"\"Finds the next states that are possible from `state`.\n",
    "    \n",
    "    Pre-condition: The state has at least one agent that needs a new valve to go to.\n",
    "    Post-condition: All states returned have time_remaining >= 0.\n",
    "    \"\"\"\n",
    "    states = []\n",
    "\n",
    "\n",
    "    # Case 1: Both need to go somewhere, selet unique ones.\n",
    "    if state.elf.time_to_dest == 0 and state.elph.time_to_dest == 0:\n",
    "        elf_costs = cost_to_go[state.elf.dest_valve]\n",
    "        elph_costs = cost_to_go[state.elph.dest_valve]\n",
    "        for elf_neighbour, elf_cost in elf_costs.items():\n",
    "            if elf_neighbour in state.opened:\n",
    "                continue\n",
    "            for elph_neighbour, elph_cost in elph_costs.items():\n",
    "                if elph_neighbour in state.opened:\n",
    "                    continue\n",
    "                if elf_neighbour == elph_neighbour:\n",
    "                    continue\n",
    "\n",
    "                # Create a state for the closer one.\n",
    "                # TODO: Will need to figure out what to do when this one is expanded.\n",
    "                if elf_cost < elph_cost:\n",
    "                    new_state = State(elf=Agent(elf_neighbour, 0),\n",
    "                                      elph=Agent(elph_neighbour, elph_cost - elf_cost),\n",
    "                                      rate = state.rate + rates[elf_neighbour],\n",
    "                                      total_flow = state.total_flow + state.rate * elf_cost,\n",
    "                                      time_remaining = state.time_remaining - elf_cost,\n",
    "                                      opened = state.opened + [elf_neighbour])\n",
    "                    states.append(new_state)\n",
    "                elif elph_cost < elf_cost:\n",
    "                    new_state = State(elf=Agent(elf_neighbour, elph_cost),\n",
    "                                      elph=Agent(elph_neighbour, 0),\n",
    "                                      rate = state.rate + rates[elph_neighbour],\n",
    "                                      total_flow = state.total_flow + state.rate * elph_cost,\n",
    "                                      time_remaining = state.time_remaining - elph_cost,\n",
    "                                      opened = state.opened + [elph_neighbour])\n",
    "                    states.append(new_state)\n",
    "                else:\n",
    "                    time_remaining = state.time_remaining - elf_cost\n",
    "\n",
    "                    if time_remaining < 0:\n",
    "                        # TODO: Update this\n",
    "                        new_state = State(current=neighbour,\n",
    "                                        opened=state.opened + [neighbour],\n",
    "                                        rate=state.rate + rates[neighbour],\n",
    "                                        total_flow=state.total_flow + state.rate * cost,\n",
    "                                        time_remaining=time_remaining)\n",
    "                        states.append(new_state)\n",
    "                    else:\n",
    "                        states.append(State(elf=Agent(elf_neighbour, 0),\n",
    "                                            elph=Agent(elph_neighbour, 0),\n",
    "                                            rate=state.rate + rates[elf_neighbour] + rates[elph_neighbour],\n",
    "                                            total_flow=state.total_flow + state.rate * elf_cost,\n",
    "                                            time_remaining=state.time_remaining - elf_cost,\n",
    "                                            opened=state.opened + [elf_neighbour, elph_neighbour]))\n",
    "    elif state.elf.time_to_dest:\n",
    "        # Find a new valve for elph to go to.\n",
    "        elf_neighbour = state.elf.dest_valve\n",
    "        for elph_neighbour, elph_cost in cost_to_go[state.elph.dest_valve].items():\n",
    "            if elph_neighbour in state.opened or elph_neighbour == elf_neighbour:\n",
    "                continue\n",
    "            elf_cost = state.elf.time_to_dest\n",
    "            if elf_cost < elph_cost:\n",
    "                new_state = State(elf=Agent(elf_neighbour, 0),\n",
    "                                  elph=Agent(elph_neighbour, elph_cost - elf_cost),\n",
    "                                  rate = state.rate + rates[elf_neighbour],\n",
    "                                  total_flow = state.total_flow + state.rate * elf_cost,\n",
    "                                  time_remaining = state.time_remaining - elf_cost,\n",
    "                                  opened = state.opened + [elf_neighbour])\n",
    "                states.append(new_state)\n",
    "            elif elph_cost < elf_cost:\n",
    "                new_state = State(elf=Agent(elf_neighbour, elf_cost - elph_cost),\n",
    "                                  elph=Agent(elph_neighbour, 0),\n",
    "                                  rate = state.rate + rates[elph_neighbour],\n",
    "                                  total_flow = state.total_flow + state.rate * elph_cost,\n",
    "                                  time_remaining = state.time_remaining - elph_cost,\n",
    "                                  opened = state.opened + [elf_neighbour])\n",
    "                states.append(new_state)\n",
    "            else:\n",
    "                time_remaining = state.time_remaining - elf_cost\n",
    "                states.append(State(elf=Agent(elf_neighbour, 0),\n",
    "                                elph=Agent(elph_neighbour, 0),\n",
    "                                rate=state.rate + rates[elf_neighbour] + rates[elph_neighbour],\n",
    "                                total_flow=state.total_flow + state.rate * elf_cost,\n",
    "                                time_remaining=state.time_remaining - elf_cost,\n",
    "                                opened=state.opened + [elf_neighbour, elph_neighbour]))\n",
    "    elif state.elph.time_to_dest:\n",
    "        ...\n",
    "    return states\n",
    "expand_state(State(elf=Agent(\"AA\", 0), elph=Agent(\"AA\", 0), opened=[], rate=0, total_flow=0, time_remaining=26))"
   ]
  },
  {
   "cell_type": "markdown",
   "id": "269bbeeb",
   "metadata": {},
   "source": [
    "# Case 2: Only one needs to expand a node"
   ]
  },
  {
   "cell_type": "markdown",
   "id": "ad291c56",
   "metadata": {},
   "source": [
    "**Input**\n",
    "```\n",
    "Valve AA has flow rate=0; tunnels lead to valves BB, CC\n",
    "Valve BB has flow rate=13; tunnel leads to valve AA\n",
    "Valve CC has flow rate=0; tunnels lead to valves AA, DD\n",
    "Valve DD has flow rate=15; tunnel leads to valve CC\n",
    "```\n",
    "\n",
    "**State**\n",
    "```py\n",
    " State(elf=Agent(dest_valve='BB', time_to_dest=0),\n",
    "          elph=Agent(dest_valve='DD', time_to_dest=1),\n",
    "          opened=['BB'],\n",
    "          rate=13,\n",
    "          total_flow=0,\n",
    "          time_remaining=24)\n",
    "```"
   ]
  },
  {
   "cell_type": "code",
   "execution_count": 171,
   "id": "7ee145f4",
   "metadata": {},
   "outputs": [
    {
     "data": {
      "text/plain": [
       "[]"
      ]
     },
     "execution_count": 171,
     "metadata": {},
     "output_type": "execute_result"
    }
   ],
   "source": [
    "rates = {\"AA\": 0, \"BB\": 13, \"CC\": 0, \"DD\": 5}\n",
    "neighbours = {\"AA\": [\"BB\", \"CC\"], \"BB\": [\"AA\"], \"CC\": [\"AA\", \"DD\"], \"DD\": [\"CC\"]}\n",
    "cost_to_go = find_all_paths_costs(rates, neighbours)\n",
    "expand_state(\n",
    "    State(elf=Agent(dest_valve='DD', time_to_dest=1),\n",
    "          elph=Agent(dest_valve='BB', time_to_dest=0),\n",
    "          opened=['BB'],\n",
    "          rate=13,\n",
    "          total_flow=0,\n",
    "          time_remaining=24))"
   ]
  },
  {
   "cell_type": "markdown",
   "id": "2d6d250d",
   "metadata": {},
   "source": [
    "# End-to-End Test"
   ]
  },
  {
   "cell_type": "markdown",
   "id": "d962334d",
   "metadata": {},
   "source": [
    "**Input**\n",
    "```\n",
    "Valve AA has flow rate=0; tunnels lead to valves BB, CC\n",
    "Valve BB has flow rate=13; tunnel leads to valve AA\n",
    "Valve CC has flow rate=15; tunnel leads to valve AA\n",
    "```\n",
    "**Expected Output**\n",
    "\n",
    "672"
   ]
  },
  {
   "cell_type": "code",
   "execution_count": null,
   "id": "0094206f",
   "metadata": {},
   "outputs": [],
   "source": [
    "initial = State(elf=\"AA\", elph=\"AA\", opened=[], rate=0, total_flow=0, time_remaining=30)\n",
    "\n",
    "for idx, state in expand_state(initial):\n",
    "    print(f\"{idx=}, {state=}\")\n",
    "\n",
    "frontier = deque()\n",
    "frontier.append(initial)\n",
    "greatest = 0\n",
    "while len(frontier):\n",
    "    state = frontier.pop()\n",
    "    if state.time_remaining > 0:\n",
    "        expand_state(state).map(frontier.append)\n",
    "    else:\n",
    "        greatest = max(greatest, state.total_flow)\n",
    "print(f\"{greatest=}\")\n"
   ]
  },
  {
   "cell_type": "markdown",
   "id": "d571cbd0",
   "metadata": {},
   "source": [
    "# Run All Tests"
   ]
  },
  {
   "cell_type": "code",
   "execution_count": 150,
   "id": "ff6f8ff1",
   "metadata": {},
   "outputs": [
    {
     "data": {
      "text/plain": [
       "[State(elf=Agent(dest_valve='BB', time_to_dest=0), elph=Agent(dest_valve='DD', time_to_dest=1), opened=['BB'], rate=13, total_flow=0, time_remaining=24),\n",
       " State(elf=Agent(dest_valve='DD', time_to_dest=2), elph=Agent(dest_valve='BB', time_to_dest=0), opened=['BB'], rate=13, total_flow=0, time_remaining=24)]"
      ]
     },
     "execution_count": 150,
     "metadata": {},
     "output_type": "execute_result"
    }
   ],
   "source": [
    "# Case 1.1: Both expand to same distance\n",
    "rates = {\"AA\": 0, \"BB\": 13, \"CC\": 15}\n",
    "neighbours = {\"AA\": [\"BB\", \"CC\"], \"BB\": [\"AA\"], \"CC\": [\"AA\"]}\n",
    "cost_to_go = find_all_paths_costs(rates, neighbours)\n",
    "states = expand_state(State(elf=Agent(\"AA\", 0), elph=Agent(\"AA\", 0), opened=[], rate=0, total_flow=0, time_remaining=26))\n",
    "assert len(states) == 2\n",
    "assert State(elf=Agent('BB', 0), elph=Agent('CC', 0), opened=['BB', 'CC'], rate=28, total_flow=0, time_remaining=24) in states\n",
    "assert State(elf=Agent('CC', 0), elph=Agent('BB', 0), opened=['BB', 'CC'], rate=28, total_flow=0, time_remaining=24) in states\n",
    "\n",
    "# Case 1.2: One expands to closer one.\n",
    "rates = {\"AA\": 0, \"BB\": 13, \"CC\": 0, \"DD\": 5}\n",
    "neighbours = {\"AA\": [\"BB\", \"CC\"], \"BB\": [\"AA\"], \"CC\": [\"AA\", \"DD\"], \"DD\": [\"CC\"]}\n",
    "cost_to_go = find_all_paths_costs(rates, neighbours)\n",
    "states = expand_state(State(elf=Agent(\"AA\", 0), elph=Agent(\"AA\", 0), opened=[], rate=0, total_flow=0, time_remaining=26))\n",
    "\n",
    "assert State(elf=Agent(dest_valve='BB', time_to_dest=0), elph=Agent(dest_valve='DD', time_to_dest=1), opened=['BB'], rate=13, total_flow=0, time_remaining=24) in states\n",
    "assert State(elf=Agent(dest_valve='DD', time_to_dest=2), elph=Agent(dest_valve='BB', time_to_dest=0), opened=['BB'], rate=13, total_flow=0, time_remaining=24) in states\n",
    "assert len(states) == 2\n",
    "print(\"tests Pass\")"
   ]
  }
 ],
 "metadata": {
  "kernelspec": {
   "display_name": "Python 3 (ipykernel)",
   "language": "python",
   "name": "python3"
  },
  "language_info": {
   "codemirror_mode": {
    "name": "ipython",
    "version": 3
   },
   "file_extension": ".py",
   "mimetype": "text/x-python",
   "name": "python",
   "nbconvert_exporter": "python",
   "pygments_lexer": "ipython3",
   "version": "3.10.6"
  }
 },
 "nbformat": 4,
 "nbformat_minor": 5
}
